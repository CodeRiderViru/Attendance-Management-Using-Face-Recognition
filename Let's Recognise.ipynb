{
 "cells": [
  {
   "cell_type": "markdown",
   "metadata": {},
   "source": [
    "import All necessary libraries and functions"
   ]
  },
  {
   "cell_type": "code",
   "execution_count": 1,
   "metadata": {},
   "outputs": [],
   "source": [
    "import warnings\n",
    "warnings.filterwarnings(\"ignore\")"
   ]
  },
  {
   "cell_type": "code",
   "execution_count": 2,
   "metadata": {},
   "outputs": [
    {
     "name": "stderr",
     "output_type": "stream",
     "text": [
      "Using TensorFlow backend.\n"
     ]
    }
   ],
   "source": [
    "from keras.models import Sequential\n",
    "from keras.layers import Conv2D, ZeroPadding2D, Activation, Input, concatenate\n",
    "from keras.models import Model\n",
    "from keras.layers.normalization import BatchNormalization\n",
    "from keras.layers.pooling import MaxPooling2D, AveragePooling2D\n",
    "from keras.layers.merge import Concatenate\n",
    "from keras.layers.core import Lambda, Flatten, Dense\n",
    "from keras.initializers import glorot_uniform\n",
    "from keras.engine.topology import Layer\n",
    "from keras import backend as K\n",
    "K.set_image_data_format('channels_first')\n",
    "import cv2\n",
    "import os\n",
    "import numpy as np\n",
    "from numpy import genfromtxt\n",
    "import pandas as pd\n",
    "import tensorflow as tf\n",
    "from fr_utils import *\n",
    "from inception_blocks_v2 import *\n",
    "import glob\n",
    "\n",
    "%matplotlib inline\n",
    "%load_ext autoreload\n",
    "%autoreload 2\n",
    "\n",
    "np.set_printoptions(threshold=np.nan)"
   ]
  },
  {
   "cell_type": "markdown",
   "metadata": {},
   "source": [
    "Create Model "
   ]
  },
  {
   "cell_type": "code",
   "execution_count": 3,
   "metadata": {},
   "outputs": [],
   "source": [
    "FRmodel=faceRecoModel(input_shape=(3, 96, 96))"
   ]
  },
  {
   "cell_type": "code",
   "execution_count": 4,
   "metadata": {},
   "outputs": [
    {
     "data": {
      "text/plain": [
       "3743280"
      ]
     },
     "execution_count": 4,
     "metadata": {},
     "output_type": "execute_result"
    }
   ],
   "source": [
    "FRmodel.count_params()"
   ]
  },
  {
   "cell_type": "markdown",
   "metadata": {},
   "source": [
    "define Triplet Loss for Our model(We will use it while compiling our model)"
   ]
  },
  {
   "cell_type": "code",
   "execution_count": 6,
   "metadata": {},
   "outputs": [],
   "source": [
    "def triplet_loss(y_true, y_pred, alpha = 0.2):\n",
    "    anchor, positive, negative = y_pred[0], y_pred[1], y_pred[2]\n",
    "    pos_dist = tf.reduce_sum(tf.square(tf.subtract(anchor, positive)), axis=-1)\n",
    "    neg_dist = tf.reduce_sum(tf.square(tf.subtract(anchor, negative)), axis=-1)\n",
    "    basic_loss = tf.add(tf.subtract(pos_dist, neg_dist), alpha)\n",
    "    loss = tf.reduce_sum(tf.maximum(basic_loss, 0))\n",
    "    return loss"
   ]
  },
  {
   "cell_type": "markdown",
   "metadata": {},
   "source": [
    "Let's Compile the model"
   ]
  },
  {
   "cell_type": "code",
   "execution_count": 7,
   "metadata": {},
   "outputs": [],
   "source": [
    "FRmodel.compile(optimizer = 'adam', loss = triplet_loss, metrics = ['accuracy'])"
   ]
  },
  {
   "cell_type": "markdown",
   "metadata": {},
   "source": [
    "Instead of training ,We will use pre-trained weights of Facenet. So let's load the weights"
   ]
  },
  {
   "cell_type": "code",
   "execution_count": 11,
   "metadata": {},
   "outputs": [],
   "source": [
    "load_weights_from_FaceNet(FRmodel)"
   ]
  },
  {
   "cell_type": "code",
   "execution_count": 28,
   "metadata": {},
   "outputs": [],
   "source": [
    "FRmodel.save(\"128bitmodel.h5\")"
   ]
  },
  {
   "cell_type": "code",
   "execution_count": 8,
   "metadata": {},
   "outputs": [],
   "source": [
    "FRmodel.load_weights(\"128bitmodel.h5\")"
   ]
  },
  {
   "cell_type": "code",
   "execution_count": 9,
   "metadata": {},
   "outputs": [],
   "source": [
    "def img_to_encoding(image_path, model):\n",
    "    img1 = cv2.imread(image_path, 1)\n",
    "    img = img1[...,::-1]\n",
    "    img = np.around(np.transpose(img, (2,0,1))/255.0, decimals=12)\n",
    "    x_train = np.array([img])\n",
    "    embedding = model.predict_on_batch(x_train)\n",
    "    return embedding"
   ]
  },
  {
   "cell_type": "code",
   "execution_count": 10,
   "metadata": {},
   "outputs": [],
   "source": [
    "x_train=[]\n",
    "y_valid=[]\n",
    "x_valid=[]\n",
    "y_train=[]"
   ]
  },
  {
   "cell_type": "code",
   "execution_count": 12,
   "metadata": {},
   "outputs": [],
   "source": [
    "persons=[\"viru\" ,\"vikki\",\"somu\",\"vikram\"]"
   ]
  },
  {
   "cell_type": "code",
   "execution_count": 13,
   "metadata": {},
   "outputs": [],
   "source": [
    "for person in persons:\n",
    "    if person==\"viru\":\n",
    "        j=0\n",
    "        k=40\n",
    "    if person==\"somu\":\n",
    "        j=1\n",
    "        k=20\n",
    "    if person==\"vikki\":\n",
    "        j=2\n",
    "        k=40\n",
    "    if person==\"vikram\":\n",
    "        j=3\n",
    "        k=40\n",
    "        \n",
    "    \n",
    "    for i in range(k):\n",
    "        image_path=\"train/%s/\"%(person)+str(i+1)+\".jpg\"\n",
    "        encoding=img_to_encoding(image_path ,FRmodel)\n",
    "        x_train.append(encoding)\n",
    "        y_train.append(j)\n",
    "    "
   ]
  },
  {
   "cell_type": "code",
   "execution_count": 14,
   "metadata": {},
   "outputs": [
    {
     "data": {
      "text/plain": [
       "(1, 128)"
      ]
     },
     "execution_count": 14,
     "metadata": {},
     "output_type": "execute_result"
    }
   ],
   "source": [
    "x_train[0].shape "
   ]
  },
  {
   "cell_type": "code",
   "execution_count": 15,
   "metadata": {},
   "outputs": [],
   "source": [
    "classify_model=Sequential()"
   ]
  },
  {
   "cell_type": "code",
   "execution_count": 16,
   "metadata": {},
   "outputs": [],
   "source": [
    "classify_model.add(Dense(128 ,input_shape=(1,128),activation=\"relu\"))"
   ]
  },
  {
   "cell_type": "code",
   "execution_count": 17,
   "metadata": {},
   "outputs": [],
   "source": [
    "classify_model.add(Dense(4,activation=\"softmax\"))"
   ]
  },
  {
   "cell_type": "code",
   "execution_count": 18,
   "metadata": {},
   "outputs": [],
   "source": [
    "from keras.utils import to_categorical\n",
    "from keras.losses import categorical_crossentropy\n",
    "from keras.preprocessing import image"
   ]
  },
  {
   "cell_type": "code",
   "execution_count": 19,
   "metadata": {},
   "outputs": [],
   "source": [
    "x_train=np.array(x_train)\n",
    "y_train=np.array(y_train)"
   ]
  },
  {
   "cell_type": "code",
   "execution_count": 20,
   "metadata": {},
   "outputs": [],
   "source": [
    "y_train=to_categorical(y_train)"
   ]
  },
  {
   "cell_type": "code",
   "execution_count": 21,
   "metadata": {},
   "outputs": [],
   "source": [
    "y_train=y_train.reshape(140,1,4)"
   ]
  },
  {
   "cell_type": "code",
   "execution_count": 22,
   "metadata": {},
   "outputs": [],
   "source": [
    "classify_model.compile(optimizer=\"adam\" ,loss=\"categorical_crossentropy\",metrics=[\"accuracy\"])"
   ]
  },
  {
   "cell_type": "code",
   "execution_count": null,
   "metadata": {},
   "outputs": [],
   "source": []
  },
  {
   "cell_type": "code",
   "execution_count": 23,
   "metadata": {},
   "outputs": [
    {
     "name": "stdout",
     "output_type": "stream",
     "text": [
      "Epoch 1/20\n",
      " - 3s - loss: 1.2274 - acc: 0.5000\n",
      "Epoch 2/20\n",
      " - 0s - loss: 0.8284 - acc: 0.7643\n",
      "Epoch 3/20\n",
      " - 0s - loss: 0.5560 - acc: 0.8857\n",
      "Epoch 4/20\n",
      " - 0s - loss: 0.4061 - acc: 0.9286\n",
      "Epoch 5/20\n",
      " - 0s - loss: 0.3111 - acc: 0.9214\n",
      "Epoch 6/20\n",
      " - 0s - loss: 0.2541 - acc: 0.9500\n",
      "Epoch 7/20\n",
      " - 0s - loss: 0.2120 - acc: 0.9214\n",
      "Epoch 8/20\n",
      " - 0s - loss: 0.1878 - acc: 0.9214\n",
      "Epoch 9/20\n",
      " - 0s - loss: 0.1620 - acc: 0.9500\n",
      "Epoch 10/20\n",
      " - 0s - loss: 0.1474 - acc: 0.9571\n",
      "Epoch 11/20\n",
      " - 0s - loss: 0.1327 - acc: 0.9714\n",
      "Epoch 12/20\n",
      " - 0s - loss: 0.1280 - acc: 0.9500\n",
      "Epoch 13/20\n",
      " - 0s - loss: 0.1109 - acc: 0.9643\n",
      "Epoch 14/20\n",
      " - 0s - loss: 0.1144 - acc: 0.9571\n",
      "Epoch 15/20\n",
      " - 0s - loss: 0.1013 - acc: 0.9714\n",
      "Epoch 16/20\n",
      " - 0s - loss: 0.0933 - acc: 0.9714\n",
      "Epoch 17/20\n",
      " - 0s - loss: 0.0860 - acc: 0.9786\n",
      "Epoch 18/20\n",
      " - 0s - loss: 0.0833 - acc: 0.9714\n",
      "Epoch 19/20\n",
      " - 0s - loss: 0.0705 - acc: 0.9857\n",
      "Epoch 20/20\n",
      " - 0s - loss: 0.0783 - acc: 0.9786\n"
     ]
    },
    {
     "data": {
      "text/plain": [
       "<keras.callbacks.History at 0x1f71dfb0ba8>"
      ]
     },
     "execution_count": 23,
     "metadata": {},
     "output_type": "execute_result"
    }
   ],
   "source": [
    "classify_model.fit(x_train,y_train ,batch_size=1,epochs=20,shuffle=True,verbose=2)"
   ]
  },
  {
   "cell_type": "code",
   "execution_count": 24,
   "metadata": {},
   "outputs": [],
   "source": [
    "def who_is_it(clas):\n",
    "    if clas==0:\n",
    "        print(\"Hii Viru ,Your attendance has been recorded\")\n",
    "    if clas==1:\n",
    "        print(\"Hii Somu ,Your attendance has been recorded\")\n",
    "    if clas==2:\n",
    "        print(\"Hii Vikki ,Your attendance has been recorded\")\n",
    "    if clas==3:\n",
    "        print(\"Hii Vikram Poonia ,Your attendance has been recorded\")\n",
    "    "
   ]
  },
  {
   "cell_type": "code",
   "execution_count": 25,
   "metadata": {},
   "outputs": [],
   "source": [
    "def Predict_who(image_path,model1,model2):\n",
    "    encoding=img_to_encoding(image_path,model1)\n",
    "    encoding=encoding.reshape(1,1,128)\n",
    "    clas=model2.predict_classes(encoding)\n",
    "    who_is_it(clas)\n",
    "    update_att(clas)"
   ]
  },
  {
   "cell_type": "code",
   "execution_count": 26,
   "metadata": {},
   "outputs": [],
   "source": [
    "classify_model.save(\"recognise.h5\")"
   ]
  },
  {
   "cell_type": "code",
   "execution_count": 27,
   "metadata": {},
   "outputs": [],
   "source": [
    "classify_model.load_weights(\"recognise.h5\")"
   ]
  },
  {
   "cell_type": "code",
   "execution_count": 70,
   "metadata": {},
   "outputs": [
    {
     "name": "stdout",
     "output_type": "stream",
     "text": [
      "Hii Vikram Poonia ,Your attendance has been recorded\n"
     ]
    },
    {
     "data": {
      "image/png": "[encoded data removed]",
      "text/plain": [
       "<PIL.Image.Image image mode=RGB size=224x224 at 0x1F72798EFD0>"
      ]
     },
     "execution_count": 70,
     "metadata": {},
     "output_type": "execute_result"
    }
   ],
   "source": [
    "image_path=\"test/vkrm8.jpg\"\n",
    "img=image.load_img(image_path ,target_size=(224,224))\n",
    "Predict_who(image_path ,FRmodel ,classify_model)\n",
    "img"
   ]
  },
  {
   "cell_type": "markdown",
   "metadata": {},
   "source": [
    "###### "
   ]
  },
  {
   "cell_type": "code",
   "execution_count": 55,
   "metadata": {},
   "outputs": [],
   "source": [
    "def img_to_encoding2(image, model):\n",
    "    img1 = image\n",
    "    img = img1[...,::-1]\n",
    "    img = np.around(np.transpose(img, (2,0,1))/255.0, decimals=12)\n",
    "    x_train = np.array([img])\n",
    "    embedding = model.predict_on_batch(x_train)\n",
    "    return embedding"
   ]
  },
  {
   "cell_type": "code",
   "execution_count": 75,
   "metadata": {},
   "outputs": [
    {
     "name": "stdout",
     "output_type": "stream",
     "text": [
      "Hii Vikram Poonia ,Your attendance has been recorded\n",
      "Hii Vikram Poonia ,Your attendance has been recorded\n"
     ]
    }
   ],
   "source": [
    "import numpy as np\n",
    "import cv2\n",
    "import os\n",
    "import time\n",
    "\n",
    "cap = cv2.VideoCapture(0)\n",
    "\n",
    "face_cascade = cv2.CascadeClassifier('haarcascade_frontalface_default.xml')\n",
    "def crop_face(clahe_image, face):\n",
    "    for (x, y, w, h) in face:\n",
    "        faceslice = clahe_image[y:y+h, x:x+w]\n",
    "        faceslice = cv2.resize(faceslice, (96,96))\n",
    "    return faceslice\n",
    "    \n",
    "while True:\n",
    "    ret,frame=cap.read()\n",
    "    time.sleep(0.3)\n",
    "    #cv2.imshow(\"preview\",frame)\n",
    "    gray = cv2.cvtColor(frame, cv2.COLOR_BGR2GRAY)\n",
    "    clahe = cv2.createCLAHE(clipLimit=2.0, tileGridSize=(8,8))\n",
    "    clahe_image = clahe.apply(gray) \n",
    "    face = face_cascade.detectMultiScale(clahe_image, scaleFactor=1.1, minNeighbors=15, minSize=(10, 10), flags=cv2.CASCADE_SCALE_IMAGE)\n",
    "    for i in range(500):\n",
    "        pass\n",
    "    face=np.array(face)\n",
    "    x=face[0][0]\n",
    "    y=face[0][1]\n",
    "    w=face[0][2]\n",
    "    h=face[0][3]\n",
    "    img=cv2.rectangle(gray, (x, y), (x+w, y+h), (0, 0, 255), 2)\n",
    "    cv2.imshow(\"img\" ,img)    \n",
    "    key=cv2.waitKey(10)\n",
    "    if key==27:\n",
    "        break\n",
    "    if key==32:\n",
    "        faceslice = crop_face(clahe_image, face)\n",
    "        cv2.imwrite(\"1.jpg\",faceslice)\n",
    "        image_path=\"1.jpg\"\n",
    "        Predict_who(image_path ,FRmodel ,classify_model)\n",
    "    \n",
    "\n",
    "cap.release()\n",
    "cv2.destroyAllWindows()"
   ]
  },
  {
   "cell_type": "markdown",
   "metadata": {},
   "source": [
    "Mongo Part\n"
   ]
  },
  {
   "cell_type": "code",
   "execution_count": 32,
   "metadata": {},
   "outputs": [],
   "source": [
    "from pymongo import MongoClient "
   ]
  },
  {
   "cell_type": "code",
   "execution_count": 37,
   "metadata": {},
   "outputs": [],
   "source": [
    "client=MongoClient()\n",
    "client = MongoClient('localhost', 27017)\n",
    "database=client.mydb\n",
    "collection=database[\"attendance1\"]"
   ]
  },
  {
   "cell_type": "code",
   "execution_count": 39,
   "metadata": {},
   "outputs": [
    {
     "data": {
      "text/plain": [
       "{'n': 0, 'nModified': 0, 'ok': 1.0, 'updatedExisting': False}"
      ]
     },
     "execution_count": 39,
     "metadata": {},
     "output_type": "execute_result"
    }
   ],
   "source": [
    "collection.update({\"Name\" : \"Somesh\"},{ \"$inc\": {\"Att_count\" :2}})"
   ]
  },
  {
   "cell_type": "code",
   "execution_count": 79,
   "metadata": {},
   "outputs": [
    {
     "name": "stdout",
     "output_type": "stream",
     "text": [
      "2\n",
      "0\n",
      "3\n",
      "2\n"
     ]
    }
   ],
   "source": [
    "cursor=collection.find()\n",
    "for record in cursor:\n",
    "    print(record[])"
   ]
  },
  {
   "cell_type": "code",
   "execution_count": 63,
   "metadata": {},
   "outputs": [],
   "source": [
    "def update_att(clas):\n",
    "    if clas==0:\n",
    "        collection.update({\"Name\" : \"Virendra\"},{ \"$inc\": {\"Att_count\" :1}})\n",
    "    if clas==1:\n",
    "        collection.update({\"Name\" : \"Somesh\"},{ \"$inc\": {\"Att_count\" :1}})\n",
    "    if clas==2:\n",
    "        collection.update({\"Name\" : \"Vikrant\"},{ \"$inc\": {\"Att_count\" :1}})\n",
    "    if clas==3:\n",
    "        collection.update({\"Name\" : \"Vikram\"},{ \"$inc\": {\"Att_count\" :1}}) "
   ]
  },
  {
   "cell_type": "code",
   "execution_count": 30,
   "metadata": {},
   "outputs": [],
   "source": [
    "def reset_att():\n",
    "    collection.update({\"Name\" : \"Virendra\"},{\"Name\" : \"Virendra\",\"Att_count\":0 })\n",
    "    collection.update({\"Name\" : \"Somesh\"},{\"Name\" : \"Somesh\",\"Att_count\":0 })\n",
    "    collection.update({\"Name\" : \"Vikrant\"},{\"Name\" : \"Vikrant\",\"Att_count\":0 })\n",
    "    collection.update({\"Name\" : \"Vikram\"},{\"Name\" : \"Vikram\",\"Att_count\":0 })"
   ]
  },
  {
   "cell_type": "code",
   "execution_count": 68,
   "metadata": {},
   "outputs": [],
   "source": [
    "reset_att()"
   ]
  },
  {
   "cell_type": "code",
   "execution_count": null,
   "metadata": {},
   "outputs": [],
   "source": []
  }
 ],
 "metadata": {
  "kernelspec": {
   "display_name": "Python 3",
   "language": "python",
   "name": "python3"
  },
  "language_info": {
   "codemirror_mode": {
    "name": "ipython",
    "version": 3
   },
   "file_extension": ".py",
   "mimetype": "text/x-python",
   "name": "python",
   "nbconvert_exporter": "python",
   "pygments_lexer": "ipython3",
   "version": "3.6.5"
  }
 },
 "nbformat": 4,
 "nbformat_minor": 2
}
